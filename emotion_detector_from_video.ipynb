{
 "cells": [
  {
   "cell_type": "code",
   "execution_count": null,
   "metadata": {},
   "outputs": [],
   "source": [
    "import cv2\n",
    "import tensorflow as tf\n",
    "import numpy as np\n",
    "from classify import Fer,IMAGE_SIZE\n",
    "from mtcnn.mtcnn import MTCNN\n",
    "\n",
    "# Initialise the fer model\n",
    "model = './output'\n",
    "fer = Fer(model)\n",
    "fer.build()\n",
    "\n",
    "# Create face detector\n",
    "detector = MTCNN()\n",
    "video = cv2.VideoCapture('./test.mp4')\n",
    "\n",
    "while(video.isOpened()):\n",
    "    # Capture frames\n",
    "    _, frame = video.read()\n",
    "    # Use MTCNN for detecting faces\n",
    "    result = detector.detect_faces(frame)\n",
    "    if result != []:\n",
    "        for person in result:\n",
    "            bounding_box = person['box']\n",
    "            x = bounding_box[0]\n",
    "            y = bounding_box[1]\n",
    "            w = bounding_box[0]+bounding_box[2]\n",
    "            h = bounding_box[1]+bounding_box[3]\n",
    "            \n",
    "            face_image = frame[y:h, x:w]\n",
    "            expression=''\n",
    "            if face_image is not None and face_image.shape[0] > IMAGE_SIZE and face_image.shape[1] > IMAGE_SIZE:\n",
    "                face_image = cv2.resize(face_image,(IMAGE_SIZE,IMAGE_SIZE),interpolation = cv2.INTER_AREA)\n",
    "                face_image = np.array([face_image],dtype=np.float32)\n",
    "                results = fer.predict(face_image)\n",
    "                if len(results) > 0:\n",
    "                    expression = results[0]\n",
    "\n",
    "            # display resulting frame\n",
    "            cv2.rectangle(frame,(x,y),(w,h),(0,155,155),2)\n",
    "            cv2.putText(frame,expression,(x,y),cv2.FONT_HERSHEY_SIMPLEX,1.0,(0,155,155))\n",
    "            cv2.imshow('frame',frame)\n",
    "            if cv2.waitKey(1) &0xFF == ord('q'):\n",
    "                break\n",
    "video.release()\n",
    "cv2.destroyAllWindows()        "
   ]
  }
 ],
 "metadata": {
  "kernelspec": {
   "display_name": "Python 3",
   "language": "python",
   "name": "python3"
  },
  "language_info": {
   "codemirror_mode": {
    "name": "ipython",
    "version": 3
   },
   "file_extension": ".py",
   "mimetype": "text/x-python",
   "name": "python",
   "nbconvert_exporter": "python",
   "pygments_lexer": "ipython3",
   "version": "3.6.8"
  }
 },
 "nbformat": 4,
 "nbformat_minor": 2
}
